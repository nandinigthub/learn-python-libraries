{
 "cells": [
  {
   "cell_type": "code",
   "execution_count": 1,
   "id": "97d17222",
   "metadata": {},
   "outputs": [],
   "source": [
    "import numpy as np"
   ]
  },
  {
   "cell_type": "code",
   "execution_count": 2,
   "id": "becbdcd1",
   "metadata": {},
   "outputs": [],
   "source": [
    "# calculating mean"
   ]
  },
  {
   "cell_type": "code",
   "execution_count": 3,
   "id": "1e391d1c",
   "metadata": {},
   "outputs": [],
   "source": [
    "n1 = np.genfromtxt('nyc_taxis.csv', delimiter = ',' , skip_header = True)"
   ]
  },
  {
   "cell_type": "code",
   "execution_count": 4,
   "id": "c5e63b62",
   "metadata": {},
   "outputs": [],
   "source": [
    "speed = n1[:,7]/(n1[:,8]/3600)"
   ]
  },
  {
   "cell_type": "code",
   "execution_count": 5,
   "id": "5d4d6269",
   "metadata": {},
   "outputs": [],
   "source": [
    "mean_speed = speed.mean()\n",
    "median_speed = np.median(speed)"
   ]
  },
  {
   "cell_type": "code",
   "execution_count": 6,
   "id": "ff2aef74",
   "metadata": {},
   "outputs": [
    {
     "name": "stdout",
     "output_type": "stream",
     "text": [
      "32.24258580925573\n",
      "22.542601629863185\n"
     ]
    }
   ],
   "source": [
    "print (mean_speed)\n",
    "print (median_speed)\n"
   ]
  },
  {
   "cell_type": "code",
   "execution_count": 7,
   "id": "cdf36309",
   "metadata": {},
   "outputs": [],
   "source": [
    "# calculating number of rides taken in the month of march"
   ]
  },
  {
   "cell_type": "code",
   "execution_count": 8,
   "id": "cdb72d56",
   "metadata": {},
   "outputs": [
    {
     "name": "stdout",
     "output_type": "stream",
     "text": [
      "15547\n"
     ]
    }
   ],
   "source": [
    "rides_march = n1[n1[:,1] == 3,1]\n",
    "print (rides_march.shape[0])"
   ]
  },
  {
   "cell_type": "code",
   "execution_count": 9,
   "id": "496752eb",
   "metadata": {},
   "outputs": [],
   "source": [
    "# check the number of rides with the tip greater than 50"
   ]
  },
  {
   "cell_type": "code",
   "execution_count": 10,
   "id": "fb48a732",
   "metadata": {},
   "outputs": [
    {
     "name": "stdout",
     "output_type": "stream",
     "text": [
      "16\n"
     ]
    }
   ],
   "source": [
    "tip = n1[n1[:,-3] > 50,-3 ]  # last se 3rd coloumn tha tip ka\n",
    "print (tip.shape[0])"
   ]
  },
  {
   "cell_type": "code",
   "execution_count": 11,
   "id": "d941528a",
   "metadata": {},
   "outputs": [],
   "source": [
    "# drop location code = 4"
   ]
  },
  {
   "cell_type": "code",
   "execution_count": 12,
   "id": "7ffc997c",
   "metadata": {},
   "outputs": [
    {
     "name": "stdout",
     "output_type": "stream",
     "text": [
      "41130\n"
     ]
    }
   ],
   "source": [
    "code = n1[n1[:,6] == 4,6 ]  # last se 3rd coloumn tha tip ka\n",
    "print (code.shape[0])"
   ]
  },
  {
   "cell_type": "code",
   "execution_count": null,
   "id": "bcf53b5c",
   "metadata": {},
   "outputs": [],
   "source": []
  }
 ],
 "metadata": {
  "kernelspec": {
   "display_name": "Python 3 (ipykernel)",
   "language": "python",
   "name": "python3"
  },
  "language_info": {
   "codemirror_mode": {
    "name": "ipython",
    "version": 3
   },
   "file_extension": ".py",
   "mimetype": "text/x-python",
   "name": "python",
   "nbconvert_exporter": "python",
   "pygments_lexer": "ipython3",
   "version": "3.10.4"
  }
 },
 "nbformat": 4,
 "nbformat_minor": 5
}
